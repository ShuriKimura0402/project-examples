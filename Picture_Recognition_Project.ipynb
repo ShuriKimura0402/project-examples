{
  "cells": [
    {
      "cell_type": "markdown",
      "metadata": {
        "id": "view-in-github",
        "colab_type": "text"
      },
      "source": [
        "<a href=\"https://colab.research.google.com/github/ShuriKimura0402/project-examples/blob/main/DogRecognize9Finalver_copy.ipynb\" target=\"_parent\"><img src=\"https://colab.research.google.com/assets/colab-badge.svg\" alt=\"Open In Colab\"/></a>"
      ]
    },
    {
      "cell_type": "code",
      "source": [
        "!pip install chainer\n",
        "import chainer"
      ],
      "metadata": {
        "id": "Fdastbff62kN"
      },
      "execution_count": null,
      "outputs": []
    },
    {
      "cell_type": "code",
      "source": [
        "!pip install CuPy"
      ],
      "metadata": {
        "id": "5l9lHCfr68wH"
      },
      "execution_count": null,
      "outputs": []
    },
    {
      "cell_type": "code",
      "source": [
        "import cupy\n",
        "chainer.print_runtime_info()"
      ],
      "metadata": {
        "id": "AL-_w8CP7Ae2"
      },
      "execution_count": null,
      "outputs": []
    },
    {
      "cell_type": "code",
      "source": [
        "!pip install Pillow"
      ],
      "metadata": {
        "id": "3EwQ9btI7Cbh"
      },
      "execution_count": null,
      "outputs": []
    },
    {
      "cell_type": "code",
      "source": [
        "import numpy as np\n",
        "import matplotlib.pyplot as plt\n",
        "import chainer.links as L\n",
        "import chainer.functions as F\n",
        "from chainer import Sequential\n",
        "from chainer import training, serializers, Chain, optimizers, iterators\n",
        "from chainer.training import extensions, Trainer"
      ],
      "metadata": {
        "id": "3UQ00BZx7FAy"
      },
      "execution_count": null,
      "outputs": []
    },
    {
      "cell_type": "code",
      "source": [
        "from google.colab import files\n",
        "uploaded_file = files.upload()"
      ],
      "metadata": {
        "id": "n4xJMMoI7LDa"
      },
      "execution_count": null,
      "outputs": []
    },
    {
      "cell_type": "code",
      "source": [
        "!unzip pomchan\\ 2.zip"
      ],
      "metadata": {
        "id": "BNObZ36i7OJi"
      },
      "execution_count": null,
      "outputs": []
    },
    {
      "cell_type": "code",
      "source": [
        "from google.colab import files\n",
        "uploaded_file = files.upload()"
      ],
      "metadata": {
        "id": "hHi6U2ER7Rye"
      },
      "execution_count": null,
      "outputs": []
    },
    {
      "cell_type": "code",
      "source": [
        "!unzip rayychan.zip"
      ],
      "metadata": {
        "id": "wQ9P_OGJ7T4f"
      },
      "execution_count": null,
      "outputs": []
    },
    {
      "cell_type": "code",
      "execution_count": null,
      "metadata": {
        "id": "Qk-vIQZhENnk"
      },
      "outputs": [],
      "source": [
        "from PIL import Image\n",
        "\n",
        "train_image_path = './rayychan/IMG_7395.jpg'\n",
        "Image.open(train_image_path)"
      ]
    },
    {
      "cell_type": "code",
      "execution_count": null,
      "metadata": {
        "id": "3FPNzI9sEP_9"
      },
      "outputs": [],
      "source": [
        "from PIL import Image\n",
        "\n",
        "vailed_image_path = './pomchan/IMG_0353.jpeg'\n",
        "Image.open(vailed_image_path)"
      ]
    },
    {
      "cell_type": "code",
      "source": [
        "rayy_images_train_path = './rayychan/'\n",
        "pom_images_train_path = './pomchan/'\n",
        "rayy_images_valid_path = './rayychan/'\n",
        "pom_images_valid_path = './pomchan/'\n",
        "\n",
        "image_and_teacher_label_list = []\n",
        "\n",
        "import os\n",
        "\n",
        "def get_image_teacher_label_list(dir,label):\n",
        "    filepath_list = []\n",
        "    files = os.listdir(dir)\n",
        "    for file in files:\n",
        "        filepath_list.append((dir + file, label))\n",
        "    return filepath_list\n",
        "\n",
        "image_and_teacher_label_list.extend(get_image_teacher_label_list(rayy_images_train_path, 0))\n",
        "image_and_teacher_label_list.extend(get_image_teacher_label_list(pom_images_train_path, 1))\n",
        "image_and_teacher_label_list.extend(get_image_teacher_label_list(rayy_images_valid_path, 0))\n",
        "image_and_teacher_label_list.extend(get_image_teacher_label_list(pom_images_valid_path, 1))\n",
        "\n",
        "print(image_and_teacher_label_list)"
      ],
      "metadata": {
        "id": "eLP6Dsdj7hlI"
      },
      "execution_count": null,
      "outputs": []
    },
    {
      "cell_type": "code",
      "source": [
        "def data_reshape(width_height_channel_image):\n",
        "    image_array = np.array(width_height_channel_image)\n",
        "    return image_array.transpose(2,0,1)\n",
        "\n",
        "INPUT_WIDTH = 128\n",
        "INPUT_HEIGHT = 128\n",
        "\n",
        "import cv2\n",
        "\n",
        "image_before_reshape = cv2.imread('./rayychan/IMG_7395.jpg')\n",
        "print(image_before_reshape.shape)\n",
        "\n",
        "image_after_reshape = data_reshape(image_before_reshape)\n",
        "print(image_after_reshape.shape)"
      ],
      "metadata": {
        "id": "-Wp0FiKG7k1f"
      },
      "execution_count": null,
      "outputs": []
    },
    {
      "cell_type": "code",
      "execution_count": null,
      "metadata": {
        "id": "e2xl2Uz_ErIX"
      },
      "outputs": [],
      "source": [
        "def adapt_data_to_convolution2d_format(input_image):\n",
        "    image, label = input_image\n",
        "\n",
        "    image = image.astype(np.uint8)\n",
        "    image = Image.fromarray(image.transpose(1, 2, 0))\n",
        "    result_image = image.resize((INPUT_WIDTH, INPUT_HEIGHT), Image.LANCZOS)\n",
        "    image = data_reshape(result_image)\n",
        "    image = image.astype(np.float32) / 255\n",
        "\n",
        "    return image, label"
      ]
    },
    {
      "cell_type": "code",
      "execution_count": null,
      "metadata": {
        "id": "o49MjeTyEuGu"
      },
      "outputs": [],
      "source": [
        "from chainer.datasets import LabeledImageDataset\n",
        "\n",
        "pomrayy_dataset = LabeledImageDataset(image_and_teacher_label_list)\n",
        "\n",
        "from chainer.datasets import TransformDataset\n",
        "transformed_dataset = TransformDataset(pomrayy_dataset, adapt_data_to_convolution2d_format)"
      ]
    },
    {
      "cell_type": "code",
      "execution_count": null,
      "metadata": {
        "id": "UFMJ4a1yEzBL"
      },
      "outputs": [],
      "source": [
        "from chainer import datasets\n",
        "train_data, test_data = datasets.split_dataset_random(transformed_dataset, int(len(transformed_dataset)*0.8), seed=0)"
      ]
    },
    {
      "cell_type": "code",
      "execution_count": null,
      "metadata": {
        "id": "ajd0PWACHDLs"
      },
      "outputs": [],
      "source": [
        "from chainer.iterators import SerialIterator\n",
        "\n",
        "gpu_id = 0\n",
        "BATCH_SIZE = 32\n",
        "MAX_EPOCH = 5 \n",
        "\n",
        "train_iter = SerialIterator(train_data, BATCH_SIZE, repeat=True, shuffle=True)\n",
        "test_iter = SerialIterator(test_data, BATCH_SIZE, shuffle=False, repeat=False)"
      ]
    },
    {
      "cell_type": "code",
      "source": [
        "print(int(len(transformed_dataset) * 0.8))\n",
        "print(len(train_data))\n",
        "print(len(test_data))\n",
        "print(train_data)\n"
      ],
      "metadata": {
        "id": "RCGj9tas7pKu"
      },
      "execution_count": null,
      "outputs": []
    },
    {
      "cell_type": "code",
      "execution_count": null,
      "metadata": {
        "id": "hUJa3_b5GfVu"
      },
      "outputs": [],
      "source": [
        "class MLP(Chain):\n",
        "    def __init__(self):\n",
        "        super().__init__()\n",
        "\n",
        "        with self.init_scope():\n",
        "            self.conv1 = L.Convolution2D(None, out_channels=32, ksize=3, stride=1, pad=1)\n",
        "            self.conv2 = L.Convolution2D(in_channels=32, out_channels=64, ksize=3, stride=1, pad=1)\n",
        "            self.conv3 = L.Convolution2D(in_channels=64, out_channels=128, ksize=3, stride=1, pad=1)\n",
        "            self.conv4 = L.Convolution2D(in_channels=128, out_channels=256, ksize=3, stride=1, pad=1) \n",
        "            self.layer1 = L.Linear(None, 1000)\n",
        "            self.layer2 = L.Linear(1000, 2)\n",
        "\n",
        "    #\n",
        "    def __call__(self, input):\n",
        "        func = F.max_pooling_2d(F.relu(self.conv1(input)), ksize=2, stride=2)\n",
        "        func = F.max_pooling_2d(F.relu(self.conv2(func)), ksize=2, stride=2)\n",
        "        func = F.max_pooling_2d(F.relu(self.conv3(func)), ksize=2, stride=2)\n",
        "        func = F.max_pooling_2d(F.relu(self.conv4(func)), ksize=2, stride=2)\n",
        "        func = F.dropout(F.relu(self.layer1(func)))\n",
        "        func = self.layer2(func)\n",
        "        return func\n",
        "\n",
        "mlp = MLP()"
      ]
    },
    {
      "cell_type": "code",
      "execution_count": null,
      "metadata": {
        "id": "TJbiu1APGjbc"
      },
      "outputs": [],
      "source": [
        "model = L.Classifier(MLP())"
      ]
    },
    {
      "cell_type": "code",
      "execution_count": null,
      "metadata": {
        "id": "ajv_A6wXGl4x"
      },
      "outputs": [],
      "source": [
        "from chainer import optimizers\n",
        "from chainer import training\n",
        "optimizer = chainer.optimizers.SGD(lr=0.01)\n",
        "optimizer.setup(model)\n",
        "updater = training.StandardUpdater(train_iter, optimizer)\n",
        "trainer = training.Trainer(updater, (30,'epoch'))"
      ]
    },
    {
      "cell_type": "code",
      "execution_count": null,
      "metadata": {
        "id": "H3Vm5dOfHHXA"
      },
      "outputs": [],
      "source": [
        "updater = training.StandardUpdater(train_iter, optimizer)"
      ]
    },
    {
      "cell_type": "code",
      "execution_count": null,
      "metadata": {
        "id": "6Mzl8zCxHNHb"
      },
      "outputs": [],
      "source": [
        "trainer = training.Trainer(updater, (30,'epoch'), out='result')"
      ]
    },
    {
      "cell_type": "code",
      "execution_count": null,
      "metadata": {
        "id": "7uktxUBHHQa3"
      },
      "outputs": [],
      "source": [
        "trainer.run()"
      ]
    },
    {
      "cell_type": "code",
      "execution_count": null,
      "metadata": {
        "id": "VYaf3tbEW3Rp"
      },
      "outputs": [],
      "source": [
        "serializers.save_hdf5(\"chainer-pomrayy-model.h5\", model)"
      ]
    },
    {
      "cell_type": "code",
      "execution_count": null,
      "metadata": {
        "id": "2NpgylYIXY03"
      },
      "outputs": [],
      "source": [
        "def convert_test_data(image_file_path, size, show=False):\n",
        "    image = Image.open(image_file_path)\n",
        "\n",
        "    result_image = image.resize((INPUT_WIDTH, INPUT_HEIGHT), Image.LANCZOS)\n",
        "    image = data_reshape(result_image)\n",
        "    kekka = image.astype(np.float32)\n",
        "    kekka = model.xp.asarray(kekka)\n",
        "    kekka = kekka[None, ...]\n",
        "    return kekka"
      ]
    },
    {
      "cell_type": "code",
      "execution_count": null,
      "metadata": {
        "id": "kXkuQA96YwUQ"
      },
      "outputs": [],
      "source": [
        "ls './rayychan/IMG_7401.jpg'\n"
      ]
    },
    {
      "cell_type": "code",
      "execution_count": null,
      "metadata": {
        "id": "SVIwAGrvY6mi"
      },
      "outputs": [],
      "source": [
        "INPUT_WIDTH = 128\n",
        "INPUT_HEIGHT = 128"
      ]
    },
    {
      "cell_type": "code",
      "execution_count": null,
      "metadata": {
        "id": "guViXUCzZESJ"
      },
      "outputs": [],
      "source": [
        "test_image_url = './rayychan/IMG_7401.jpg'\n",
        "\n",
        "from PIL import Image\n",
        "import numpy as np\n",
        "\n",
        "image_path = test_image_url\n",
        "Image.open(image_path)"
      ]
    },
    {
      "cell_type": "code",
      "execution_count": null,
      "metadata": {
        "id": "jIAbuLIfZiPo"
      },
      "outputs": [],
      "source": [
        "from chainer.cuda import to_cpu"
      ]
    },
    {
      "cell_type": "code",
      "execution_count": null,
      "metadata": {
        "id": "akSJuQCtZpHP"
      },
      "outputs": [],
      "source": [
        "test_data = convert_test_data(test_image_url, (INPUT_WIDTH, INPUT_HEIGHT))\n",
        "with chainer.using_config('train', False), chainer.using_config('enable_backprop', False):\n",
        "    test_teacher_labels = model.predictor(test_data)\n",
        "    test_teacher_labels = to_cpu(test_teacher_labels.array)\n",
        "    test_teacher_label = test_teacher_labels.argmax(axis=1)[0]\n",
        "    if test_teacher_label == 0:\n",
        "        retval = 'this is ray'\n",
        "    else:\n",
        "        retval = 'this is pom'\n",
        "print(retval)"
      ]
    },
    {
      "cell_type": "code",
      "source": [
        "from google.colab import files\n",
        "uploaded_file = files.upload()"
      ],
      "metadata": {
        "id": "6cSWyJbf7yt6"
      },
      "execution_count": null,
      "outputs": []
    },
    {
      "cell_type": "code",
      "execution_count": null,
      "metadata": {
        "id": "-h59AvPnlXF3"
      },
      "outputs": [],
      "source": [
        "ls 'IMG_8494.jpeg'"
      ]
    },
    {
      "cell_type": "code",
      "execution_count": null,
      "metadata": {
        "id": "Bcr66EMelgND"
      },
      "outputs": [],
      "source": [
        "INPUT_WIDTH = 128\n",
        "INPUT_HEIGHT = 128"
      ]
    },
    {
      "cell_type": "code",
      "execution_count": null,
      "metadata": {
        "colab": {
          "background_save": true
        },
        "id": "Aqj4xDUrlhld"
      },
      "outputs": [],
      "source": [
        "test_image_url2 = 'IMG_8494.jpeg'\n",
        "\n",
        "from PIL import Image\n",
        "import numpy as np\n",
        "\n",
        "image_path = test_image_url2\n",
        "Image.open(image_path)"
      ]
    },
    {
      "cell_type": "code",
      "execution_count": null,
      "metadata": {
        "id": "iB_sgj_Ol0Hl"
      },
      "outputs": [],
      "source": [
        "from chainer.cuda import to_cpu"
      ]
    },
    {
      "cell_type": "code",
      "execution_count": null,
      "metadata": {
        "id": "OVWj5MFOl4BW"
      },
      "outputs": [],
      "source": [
        "test_data = convert_test_data(test_image_url2, (INPUT_WIDTH, INPUT_HEIGHT))\n",
        "with chainer.using_config('train', False), chainer.using_config('enable_backprop', False):\n",
        "    test_teacher_labels = model.predictor(test_data)\n",
        "    test_teacher_labels = to_cpu(test_teacher_labels.array)\n",
        "    test_teacher_label = test_teacher_labels.argmax(axis=1)[0]\n",
        "    if test_teacher_label == 0:\n",
        "        retval = 'this is ray'\n",
        "    else:\n",
        "        retval = 'this is pom'\n",
        "print(retval)"
      ]
    }
  ],
  "metadata": {
    "colab": {
      "collapsed_sections": [],
      "name": "DogRecognize9Finalver_copy",
      "provenance": [],
      "toc_visible": true,
      "private_outputs": true,
      "authorship_tag": "ABX9TyNk/Y/b/zmqnhQyu2Px873O",
      "include_colab_link": true
    },
    "kernelspec": {
      "display_name": "Python 3",
      "name": "python3"
    },
    "language_info": {
      "name": "python"
    }
  },
  "nbformat": 4,
  "nbformat_minor": 0
}
